{
  "nbformat": 4,
  "nbformat_minor": 0,
  "metadata": {
    "kernelspec": {
      "display_name": "action",
      "language": "python",
      "name": "action"
    },
    "language_info": {
      "codemirror_mode": {
        "name": "ipython",
        "version": 3
      },
      "file_extension": ".py",
      "mimetype": "text/x-python",
      "name": "python",
      "nbconvert_exporter": "python",
      "pygments_lexer": "ipython3",
      "version": "3.7.3"
    },
    "colab": {
      "name": "signDetection.ipynb",
      "provenance": [],
      "collapsed_sections": [],
      "include_colab_link": true
    }
  },
  "cells": [
    {
      "cell_type": "markdown",
      "metadata": {
        "id": "view-in-github",
        "colab_type": "text"
      },
      "source": [
        "<a href=\"https://colab.research.google.com/github/ChethaniDilhari/sign-language-detection-with-media-pipe/blob/main/signDetection.ipynb\" target=\"_parent\"><img src=\"https://colab.research.google.com/assets/colab-badge.svg\" alt=\"Open In Colab\"/></a>"
      ]
    },
    {
      "cell_type": "code",
      "metadata": {
        "colab": {
          "base_uri": "https://localhost:8080/"
        },
        "id": "tS_TgdSUc5Br",
        "outputId": "a97de9bc-a50d-4ccb-93b1-b14195338add"
      },
      "source": [
        "!pip install tensorflow==2.4.1 tensorflow-gpu==2.4.1 opencv-python mediapipe sklearn matplotlib"
      ],
      "execution_count": 1,
      "outputs": [
        {
          "output_type": "stream",
          "name": "stdout",
          "text": [
            "Collecting tensorflow==2.4.1\n",
            "  Downloading tensorflow-2.4.1-cp37-cp37m-manylinux2010_x86_64.whl (394.3 MB)\n",
            "\u001b[K     |████████████████████████████████| 394.3 MB 9.8 kB/s \n",
            "\u001b[?25hCollecting tensorflow-gpu==2.4.1\n",
            "  Downloading tensorflow_gpu-2.4.1-cp37-cp37m-manylinux2010_x86_64.whl (394.3 MB)\n",
            "\u001b[K     |████████████████████████████████| 394.3 MB 12 kB/s \n",
            "\u001b[?25hRequirement already satisfied: opencv-python in /usr/local/lib/python3.7/dist-packages (4.1.2.30)\n",
            "Collecting mediapipe\n",
            "  Downloading mediapipe-0.8.9.1-cp37-cp37m-manylinux_2_17_x86_64.manylinux2014_x86_64.whl (32.7 MB)\n",
            "\u001b[K     |████████████████████████████████| 32.7 MB 157 kB/s \n",
            "\u001b[?25hRequirement already satisfied: sklearn in /usr/local/lib/python3.7/dist-packages (0.0)\n",
            "Requirement already satisfied: matplotlib in /usr/local/lib/python3.7/dist-packages (3.2.2)\n",
            "Requirement already satisfied: wheel~=0.35 in /usr/local/lib/python3.7/dist-packages (from tensorflow==2.4.1) (0.37.1)\n",
            "Collecting typing-extensions~=3.7.4\n",
            "  Downloading typing_extensions-3.7.4.3-py3-none-any.whl (22 kB)\n",
            "Requirement already satisfied: astunparse~=1.6.3 in /usr/local/lib/python3.7/dist-packages (from tensorflow==2.4.1) (1.6.3)\n",
            "Requirement already satisfied: protobuf>=3.9.2 in /usr/local/lib/python3.7/dist-packages (from tensorflow==2.4.1) (3.17.3)\n",
            "Collecting wrapt~=1.12.1\n",
            "  Downloading wrapt-1.12.1.tar.gz (27 kB)\n",
            "Collecting tensorflow-estimator<2.5.0,>=2.4.0\n",
            "  Downloading tensorflow_estimator-2.4.0-py2.py3-none-any.whl (462 kB)\n",
            "\u001b[K     |████████████████████████████████| 462 kB 32.1 MB/s \n",
            "\u001b[?25hRequirement already satisfied: termcolor~=1.1.0 in /usr/local/lib/python3.7/dist-packages (from tensorflow==2.4.1) (1.1.0)\n",
            "Requirement already satisfied: numpy~=1.19.2 in /usr/local/lib/python3.7/dist-packages (from tensorflow==2.4.1) (1.19.5)\n",
            "Requirement already satisfied: google-pasta~=0.2 in /usr/local/lib/python3.7/dist-packages (from tensorflow==2.4.1) (0.2.0)\n",
            "Collecting gast==0.3.3\n",
            "  Downloading gast-0.3.3-py2.py3-none-any.whl (9.7 kB)\n",
            "Collecting grpcio~=1.32.0\n",
            "  Downloading grpcio-1.32.0-cp37-cp37m-manylinux2014_x86_64.whl (3.8 MB)\n",
            "\u001b[K     |████████████████████████████████| 3.8 MB 42.9 MB/s \n",
            "\u001b[?25hCollecting flatbuffers~=1.12.0\n",
            "  Downloading flatbuffers-1.12-py2.py3-none-any.whl (15 kB)\n",
            "Requirement already satisfied: keras-preprocessing~=1.1.2 in /usr/local/lib/python3.7/dist-packages (from tensorflow==2.4.1) (1.1.2)\n",
            "Requirement already satisfied: tensorboard~=2.4 in /usr/local/lib/python3.7/dist-packages (from tensorflow==2.4.1) (2.7.0)\n",
            "Requirement already satisfied: six~=1.15.0 in /usr/local/lib/python3.7/dist-packages (from tensorflow==2.4.1) (1.15.0)\n",
            "Collecting h5py~=2.10.0\n",
            "  Downloading h5py-2.10.0-cp37-cp37m-manylinux1_x86_64.whl (2.9 MB)\n",
            "\u001b[K     |████████████████████████████████| 2.9 MB 38.4 MB/s \n",
            "\u001b[?25hRequirement already satisfied: absl-py~=0.10 in /usr/local/lib/python3.7/dist-packages (from tensorflow==2.4.1) (0.12.0)\n",
            "Requirement already satisfied: opt-einsum~=3.3.0 in /usr/local/lib/python3.7/dist-packages (from tensorflow==2.4.1) (3.3.0)\n",
            "Requirement already satisfied: werkzeug>=0.11.15 in /usr/local/lib/python3.7/dist-packages (from tensorboard~=2.4->tensorflow==2.4.1) (1.0.1)\n",
            "Requirement already satisfied: markdown>=2.6.8 in /usr/local/lib/python3.7/dist-packages (from tensorboard~=2.4->tensorflow==2.4.1) (3.3.6)\n",
            "Requirement already satisfied: google-auth<3,>=1.6.3 in /usr/local/lib/python3.7/dist-packages (from tensorboard~=2.4->tensorflow==2.4.1) (1.35.0)\n",
            "Requirement already satisfied: requests<3,>=2.21.0 in /usr/local/lib/python3.7/dist-packages (from tensorboard~=2.4->tensorflow==2.4.1) (2.23.0)\n",
            "Requirement already satisfied: google-auth-oauthlib<0.5,>=0.4.1 in /usr/local/lib/python3.7/dist-packages (from tensorboard~=2.4->tensorflow==2.4.1) (0.4.6)\n",
            "Requirement already satisfied: tensorboard-plugin-wit>=1.6.0 in /usr/local/lib/python3.7/dist-packages (from tensorboard~=2.4->tensorflow==2.4.1) (1.8.1)\n",
            "Requirement already satisfied: tensorboard-data-server<0.7.0,>=0.6.0 in /usr/local/lib/python3.7/dist-packages (from tensorboard~=2.4->tensorflow==2.4.1) (0.6.1)\n",
            "Requirement already satisfied: setuptools>=41.0.0 in /usr/local/lib/python3.7/dist-packages (from tensorboard~=2.4->tensorflow==2.4.1) (57.4.0)\n",
            "Requirement already satisfied: cachetools<5.0,>=2.0.0 in /usr/local/lib/python3.7/dist-packages (from google-auth<3,>=1.6.3->tensorboard~=2.4->tensorflow==2.4.1) (4.2.4)\n",
            "Requirement already satisfied: pyasn1-modules>=0.2.1 in /usr/local/lib/python3.7/dist-packages (from google-auth<3,>=1.6.3->tensorboard~=2.4->tensorflow==2.4.1) (0.2.8)\n",
            "Requirement already satisfied: rsa<5,>=3.1.4 in /usr/local/lib/python3.7/dist-packages (from google-auth<3,>=1.6.3->tensorboard~=2.4->tensorflow==2.4.1) (4.8)\n",
            "Requirement already satisfied: requests-oauthlib>=0.7.0 in /usr/local/lib/python3.7/dist-packages (from google-auth-oauthlib<0.5,>=0.4.1->tensorboard~=2.4->tensorflow==2.4.1) (1.3.0)\n",
            "Requirement already satisfied: importlib-metadata>=4.4 in /usr/local/lib/python3.7/dist-packages (from markdown>=2.6.8->tensorboard~=2.4->tensorflow==2.4.1) (4.10.0)\n",
            "Requirement already satisfied: zipp>=0.5 in /usr/local/lib/python3.7/dist-packages (from importlib-metadata>=4.4->markdown>=2.6.8->tensorboard~=2.4->tensorflow==2.4.1) (3.7.0)\n",
            "Requirement already satisfied: pyasn1<0.5.0,>=0.4.6 in /usr/local/lib/python3.7/dist-packages (from pyasn1-modules>=0.2.1->google-auth<3,>=1.6.3->tensorboard~=2.4->tensorflow==2.4.1) (0.4.8)\n",
            "Requirement already satisfied: certifi>=2017.4.17 in /usr/local/lib/python3.7/dist-packages (from requests<3,>=2.21.0->tensorboard~=2.4->tensorflow==2.4.1) (2021.10.8)\n",
            "Requirement already satisfied: idna<3,>=2.5 in /usr/local/lib/python3.7/dist-packages (from requests<3,>=2.21.0->tensorboard~=2.4->tensorflow==2.4.1) (2.10)\n",
            "Requirement already satisfied: urllib3!=1.25.0,!=1.25.1,<1.26,>=1.21.1 in /usr/local/lib/python3.7/dist-packages (from requests<3,>=2.21.0->tensorboard~=2.4->tensorflow==2.4.1) (1.24.3)\n",
            "Requirement already satisfied: chardet<4,>=3.0.2 in /usr/local/lib/python3.7/dist-packages (from requests<3,>=2.21.0->tensorboard~=2.4->tensorflow==2.4.1) (3.0.4)\n",
            "Requirement already satisfied: oauthlib>=3.0.0 in /usr/local/lib/python3.7/dist-packages (from requests-oauthlib>=0.7.0->google-auth-oauthlib<0.5,>=0.4.1->tensorboard~=2.4->tensorflow==2.4.1) (3.1.1)\n",
            "Requirement already satisfied: opencv-contrib-python in /usr/local/lib/python3.7/dist-packages (from mediapipe) (4.1.2.30)\n",
            "Requirement already satisfied: attrs>=19.1.0 in /usr/local/lib/python3.7/dist-packages (from mediapipe) (21.4.0)\n",
            "Requirement already satisfied: scikit-learn in /usr/local/lib/python3.7/dist-packages (from sklearn) (1.0.2)\n",
            "Requirement already satisfied: python-dateutil>=2.1 in /usr/local/lib/python3.7/dist-packages (from matplotlib) (2.8.2)\n",
            "Requirement already satisfied: cycler>=0.10 in /usr/local/lib/python3.7/dist-packages (from matplotlib) (0.11.0)\n",
            "Requirement already satisfied: pyparsing!=2.0.4,!=2.1.2,!=2.1.6,>=2.0.1 in /usr/local/lib/python3.7/dist-packages (from matplotlib) (3.0.6)\n",
            "Requirement already satisfied: kiwisolver>=1.0.1 in /usr/local/lib/python3.7/dist-packages (from matplotlib) (1.3.2)\n",
            "Requirement already satisfied: joblib>=0.11 in /usr/local/lib/python3.7/dist-packages (from scikit-learn->sklearn) (1.1.0)\n",
            "Requirement already satisfied: scipy>=1.1.0 in /usr/local/lib/python3.7/dist-packages (from scikit-learn->sklearn) (1.4.1)\n",
            "Requirement already satisfied: threadpoolctl>=2.0.0 in /usr/local/lib/python3.7/dist-packages (from scikit-learn->sklearn) (3.0.0)\n",
            "Building wheels for collected packages: wrapt\n",
            "  Building wheel for wrapt (setup.py) ... \u001b[?25l\u001b[?25hdone\n",
            "  Created wheel for wrapt: filename=wrapt-1.12.1-cp37-cp37m-linux_x86_64.whl size=68714 sha256=4cea13668b6aa39f2e8c6a237e9449fa5ead88bb3324d6c44b2526094327a3b1\n",
            "  Stored in directory: /root/.cache/pip/wheels/62/76/4c/aa25851149f3f6d9785f6c869387ad82b3fd37582fa8147ac6\n",
            "Successfully built wrapt\n",
            "Installing collected packages: typing-extensions, grpcio, wrapt, tensorflow-estimator, h5py, gast, flatbuffers, tensorflow-gpu, tensorflow, mediapipe\n",
            "  Attempting uninstall: typing-extensions\n",
            "    Found existing installation: typing-extensions 3.10.0.2\n",
            "    Uninstalling typing-extensions-3.10.0.2:\n",
            "      Successfully uninstalled typing-extensions-3.10.0.2\n",
            "  Attempting uninstall: grpcio\n",
            "    Found existing installation: grpcio 1.43.0\n",
            "    Uninstalling grpcio-1.43.0:\n",
            "      Successfully uninstalled grpcio-1.43.0\n",
            "  Attempting uninstall: wrapt\n",
            "    Found existing installation: wrapt 1.13.3\n",
            "    Uninstalling wrapt-1.13.3:\n",
            "      Successfully uninstalled wrapt-1.13.3\n",
            "  Attempting uninstall: tensorflow-estimator\n",
            "    Found existing installation: tensorflow-estimator 2.7.0\n",
            "    Uninstalling tensorflow-estimator-2.7.0:\n",
            "      Successfully uninstalled tensorflow-estimator-2.7.0\n",
            "  Attempting uninstall: h5py\n",
            "    Found existing installation: h5py 3.1.0\n",
            "    Uninstalling h5py-3.1.0:\n",
            "      Successfully uninstalled h5py-3.1.0\n",
            "  Attempting uninstall: gast\n",
            "    Found existing installation: gast 0.4.0\n",
            "    Uninstalling gast-0.4.0:\n",
            "      Successfully uninstalled gast-0.4.0\n",
            "  Attempting uninstall: flatbuffers\n",
            "    Found existing installation: flatbuffers 2.0\n",
            "    Uninstalling flatbuffers-2.0:\n",
            "      Successfully uninstalled flatbuffers-2.0\n",
            "  Attempting uninstall: tensorflow\n",
            "    Found existing installation: tensorflow 2.7.0\n",
            "    Uninstalling tensorflow-2.7.0:\n",
            "      Successfully uninstalled tensorflow-2.7.0\n",
            "Successfully installed flatbuffers-1.12 gast-0.3.3 grpcio-1.32.0 h5py-2.10.0 mediapipe-0.8.9.1 tensorflow-2.4.1 tensorflow-estimator-2.4.0 tensorflow-gpu-2.4.1 typing-extensions-3.7.4.3 wrapt-1.12.1\n"
          ]
        }
      ]
    },
    {
      "cell_type": "code",
      "metadata": {
        "colab": {
          "base_uri": "https://localhost:8080/"
        },
        "id": "9Knc1WP39_Rx",
        "outputId": "23341393-d3b8-402a-a5e5-05611a310a7d"
      },
      "source": [
        "!pip install mediapipe "
      ],
      "execution_count": 2,
      "outputs": [
        {
          "output_type": "stream",
          "name": "stdout",
          "text": [
            "Requirement already satisfied: mediapipe in /usr/local/lib/python3.7/dist-packages (0.8.9.1)\n",
            "Requirement already satisfied: matplotlib in /usr/local/lib/python3.7/dist-packages (from mediapipe) (3.2.2)\n",
            "Requirement already satisfied: numpy in /usr/local/lib/python3.7/dist-packages (from mediapipe) (1.19.5)\n",
            "Requirement already satisfied: absl-py in /usr/local/lib/python3.7/dist-packages (from mediapipe) (0.12.0)\n",
            "Requirement already satisfied: protobuf>=3.11.4 in /usr/local/lib/python3.7/dist-packages (from mediapipe) (3.17.3)\n",
            "Requirement already satisfied: opencv-contrib-python in /usr/local/lib/python3.7/dist-packages (from mediapipe) (4.1.2.30)\n",
            "Requirement already satisfied: attrs>=19.1.0 in /usr/local/lib/python3.7/dist-packages (from mediapipe) (21.4.0)\n",
            "Requirement already satisfied: six>=1.9 in /usr/local/lib/python3.7/dist-packages (from protobuf>=3.11.4->mediapipe) (1.15.0)\n",
            "Requirement already satisfied: kiwisolver>=1.0.1 in /usr/local/lib/python3.7/dist-packages (from matplotlib->mediapipe) (1.3.2)\n",
            "Requirement already satisfied: pyparsing!=2.0.4,!=2.1.2,!=2.1.6,>=2.0.1 in /usr/local/lib/python3.7/dist-packages (from matplotlib->mediapipe) (3.0.6)\n",
            "Requirement already satisfied: python-dateutil>=2.1 in /usr/local/lib/python3.7/dist-packages (from matplotlib->mediapipe) (2.8.2)\n",
            "Requirement already satisfied: cycler>=0.10 in /usr/local/lib/python3.7/dist-packages (from matplotlib->mediapipe) (0.11.0)\n"
          ]
        }
      ]
    },
    {
      "cell_type": "code",
      "metadata": {
        "colab": {
          "base_uri": "https://localhost:8080/"
        },
        "id": "o_0_17v0_1Wz",
        "outputId": "1a591009-1368-486d-da2f-c12081c33356"
      },
      "source": [
        "!pip uninstall opencv-python\n",
        "!pip install opencv-contrib-python"
      ],
      "execution_count": 3,
      "outputs": [
        {
          "output_type": "stream",
          "name": "stdout",
          "text": [
            "Found existing installation: opencv-python 4.1.2.30\n",
            "Uninstalling opencv-python-4.1.2.30:\n",
            "  Would remove:\n",
            "    /usr/local/lib/python3.7/dist-packages/cv2/*\n",
            "    /usr/local/lib/python3.7/dist-packages/opencv_python-4.1.2.30.dist-info/*\n",
            "Proceed (y/n)? n\n",
            "Requirement already satisfied: opencv-contrib-python in /usr/local/lib/python3.7/dist-packages (4.1.2.30)\n",
            "Requirement already satisfied: numpy>=1.14.5 in /usr/local/lib/python3.7/dist-packages (from opencv-contrib-python) (1.19.5)\n"
          ]
        }
      ]
    },
    {
      "cell_type": "code",
      "metadata": {
        "id": "F4B_Ten-c5Bt"
      },
      "source": [
        "import cv2\n",
        "import numpy as np\n",
        "import os\n",
        "from matplotlib import pyplot as plt\n",
        "import time\n",
        "import mediapipe as mp\n",
        "import cv2 #openCv\n",
        "from IPython.display import display, Javascript, Image\n",
        "from google.colab.output import eval_js\n",
        "import io\n",
        "from base64 import b64decode, b64encode"
      ],
      "execution_count": 4,
      "outputs": []
    },
    {
      "cell_type": "code",
      "metadata": {
        "id": "yacATpjmc5Bw"
      },
      "source": [
        "#xtracting keypoints using Media pipe\n",
        "\n",
        "mp_holistic = mp.solutions.holistic # Holistic model\n",
        "mp_drawing = mp.solutions.drawing_utils # Drawing utilities"
      ],
      "execution_count": 5,
      "outputs": []
    },
    {
      "cell_type": "code",
      "metadata": {
        "id": "mehHgyApc5Bx"
      },
      "source": [
        "#We get the image from webcam using openCV video capture, in BGR format. Therefor we need to convert it to RGB to be fed into MediaPipe model to do the detection. \n",
        "#After fedding and classification, we can convert it back to BGR\n",
        "\n",
        "def mediapipe_detection(image, model):\n",
        "    print(\"entered mediapipe_detection\")\n",
        "    image = cv2.cvtColor(image, cv2.COLOR_BGR2RGB) # COLOR CONVERSION BGR 2 RGB\n",
        "    image.flags.writeable = False                  # Image is no longer writeable\n",
        "    results = model.process(image)                 # Make prediction\n",
        "    image.flags.writeable = True                   # Image is now writeable \n",
        "    image = cv2.cvtColor(image, cv2.COLOR_RGB2BGR) # COLOR CONVERSION RGB 2 BGR\n",
        "    return image, results\n",
        "    print(\"left mediapipe_detection\")"
      ],
      "execution_count": 6,
      "outputs": []
    },
    {
      "cell_type": "code",
      "metadata": {
        "id": "OVgP2LHlc5Bz"
      },
      "source": [
        "#draw landamrks on the image \n",
        "def draw_landmarks(image, results):\n",
        "    mp_drawing.draw_landmarks(image, results.left_hand_landmarks, mp_holistic.HAND_CONNECTIONS) # Draw left hand connections\n",
        "    mp_drawing.draw_landmarks(image, results.right_hand_landmarks, mp_holistic.HAND_CONNECTIONS) # Draw right hand connections"
      ],
      "execution_count": 7,
      "outputs": []
    },
    {
      "cell_type": "code",
      "metadata": {
        "id": "fm-n8auXc5B1"
      },
      "source": [
        "def draw_styled_landmarks(image, results):\n",
        "    \n",
        "    mp_drawing.draw_landmarks(image, results.left_hand_landmarks, mp_holistic.HAND_CONNECTIONS, \n",
        "                             mp_drawing.DrawingSpec(color=(121,22,76), thickness=2, circle_radius=4), \n",
        "                             mp_drawing.DrawingSpec(color=(121,44,250), thickness=2, circle_radius=2)\n",
        "                             ) \n",
        "    # Draw right hand connections  \n",
        "    mp_drawing.draw_landmarks(image, results.right_hand_landmarks, mp_holistic.HAND_CONNECTIONS, \n",
        "                             mp_drawing.DrawingSpec(color=(245,117,66), thickness=2, circle_radius=4), \n",
        "                             mp_drawing.DrawingSpec(color=(245,66,230), thickness=2, circle_radius=2)\n",
        "                             ) "
      ],
      "execution_count": 8,
      "outputs": []
    },
    {
      "cell_type": "markdown",
      "metadata": {
        "id": "PYBXfgmvRh-t"
      },
      "source": [
        "javascript helper function to make converting between different image data types and formats.\n",
        "\n",
        "function to convert the JavaScript object into an OpenCV image"
      ]
    },
    {
      "cell_type": "code",
      "metadata": {
        "id": "8hETHT1ACg-b"
      },
      "source": [
        "# function to convert the JavaScript object into an OpenCV image\n",
        "def js_to_image(js_reply):\n",
        "  \"\"\"\n",
        "  Params:\n",
        "          js_reply: JavaScript object containing image from webcam\n",
        "  Returns:\n",
        "          img: OpenCV BGR image\n",
        "  \"\"\"\n",
        "  # decode base64 image\n",
        "  image_bytes = b64decode(js_reply.split(',')[1])\n",
        "  # convert bytes to numpy array\n",
        "  jpg_as_np = np.frombuffer(image_bytes, dtype=np.uint8)\n",
        "  # decode numpy array into OpenCV BGR image\n",
        "  img = cv2.imdecode(jpg_as_np, flags=1)\n",
        "\n",
        "  return img\n",
        "\n",
        "# function to convert OpenCV Rectangle bounding box image into base64 byte string to be overlayed on video stream\n",
        "def bbox_to_bytes(bbox_array):\n",
        "  \"\"\"\n",
        "  Params:\n",
        "          bbox_array: Numpy array (pixels) containing rectangle to overlay on video stream.\n",
        "  Returns:\n",
        "        bytes: Base64 image byte string\n",
        "  \"\"\"\n",
        "  # convert array into PIL image\n",
        "  bbox_PIL = PIL.Image.fromarray(bbox_array, 'RGBA')\n",
        "  iobuf = io.BytesIO()\n",
        "  # format bbox into png for return\n",
        "  bbox_PIL.save(iobuf, format='png')\n",
        "  # format return string\n",
        "  bbox_bytes = 'data:image/png;base64,{}'.format((str(b64encode(iobuf.getvalue()), 'utf-8')))\n",
        "\n",
        "  return bbox_bytes"
      ],
      "execution_count": 9,
      "outputs": []
    },
    {
      "cell_type": "code",
      "metadata": {
        "id": "t_Bje0g7Sr3X"
      },
      "source": [
        "# JavaScript to properly create our live video stream using our webcam as input\n",
        "def video_stream():\n",
        "  js = Javascript('''\n",
        "    var video;\n",
        "    var div = null;\n",
        "    var stream;\n",
        "    var captureCanvas;\n",
        "    var imgElement;\n",
        "    var labelElement;\n",
        "    \n",
        "    var pendingResolve = null;\n",
        "    var shutdown = false;\n",
        "    \n",
        "    function removeDom() {\n",
        "       stream.getVideoTracks()[0].stop();\n",
        "       video.remove();\n",
        "       div.remove();\n",
        "       video = null;\n",
        "       div = null;\n",
        "       stream = null;\n",
        "       imgElement = null;\n",
        "       captureCanvas = null;\n",
        "       labelElement = null;\n",
        "    }\n",
        "    \n",
        "    function onAnimationFrame() {\n",
        "      if (!shutdown) {\n",
        "        window.requestAnimationFrame(onAnimationFrame);\n",
        "      }\n",
        "      if (pendingResolve) {\n",
        "        var result = \"\";\n",
        "        if (!shutdown) {\n",
        "          captureCanvas.getContext('2d').drawImage(video, 0, 0, 640, 480);\n",
        "          result = captureCanvas.toDataURL('image/jpeg', 0.8)\n",
        "        }\n",
        "        var lp = pendingResolve;\n",
        "        pendingResolve = null;\n",
        "        lp(result);\n",
        "      }\n",
        "    }\n",
        "    \n",
        "    async function createDom() {\n",
        "      if (div !== null) {\n",
        "        return stream;\n",
        "      }\n",
        "\n",
        "      div = document.createElement('div');\n",
        "      div.style.border = '2px solid black';\n",
        "      div.style.padding = '3px';\n",
        "      div.style.width = '100%';\n",
        "      div.style.maxWidth = '600px';\n",
        "      document.body.appendChild(div);\n",
        "      \n",
        "      const modelOut = document.createElement('div');\n",
        "      modelOut.innerHTML = \"<span>Status:</span>\";\n",
        "      labelElement = document.createElement('span');\n",
        "      labelElement.innerText = 'No data';\n",
        "      labelElement.style.fontWeight = 'bold';\n",
        "      modelOut.appendChild(labelElement);\n",
        "      div.appendChild(modelOut);\n",
        "           \n",
        "      video = document.createElement('video');\n",
        "      video.style.display = 'block';\n",
        "      video.width = div.clientWidth - 6;\n",
        "      video.setAttribute('playsinline', '');\n",
        "      video.onclick = () => { shutdown = true; };\n",
        "      stream = await navigator.mediaDevices.getUserMedia(\n",
        "          {video: { facingMode: \"environment\"}});\n",
        "      div.appendChild(video);\n",
        "\n",
        "      imgElement = document.createElement('img');\n",
        "      imgElement.style.position = 'absolute';\n",
        "      imgElement.style.zIndex = 1;\n",
        "      imgElement.onclick = () => { shutdown = true; };\n",
        "      div.appendChild(imgElement);\n",
        "      \n",
        "      const instruction = document.createElement('div');\n",
        "      instruction.innerHTML = \n",
        "          '<span style=\"color: red; font-weight: bold;\">' +\n",
        "          'When finished, click here or on the video to stop this demo</span>';\n",
        "      div.appendChild(instruction);\n",
        "      instruction.onclick = () => { shutdown = true; };\n",
        "      \n",
        "      video.srcObject = stream;\n",
        "      await video.play();\n",
        "\n",
        "      captureCanvas = document.createElement('canvas');\n",
        "      captureCanvas.width = 640; //video.videoWidth;\n",
        "      captureCanvas.height = 480; //video.videoHeight;\n",
        "      window.requestAnimationFrame(onAnimationFrame);\n",
        "      \n",
        "      return stream;\n",
        "    }\n",
        "    async function stream_frame(label, imgData) {\n",
        "      if (shutdown) {\n",
        "        removeDom();\n",
        "        shutdown = false;\n",
        "        return '';\n",
        "      }\n",
        "\n",
        "      var preCreate = Date.now();\n",
        "      stream = await createDom();\n",
        "      \n",
        "      var preShow = Date.now();\n",
        "      if (label != \"\") {\n",
        "        labelElement.innerHTML = label;\n",
        "      }\n",
        "            \n",
        "      if (imgData != \"\") {\n",
        "        var videoRect = video.getClientRects()[0];\n",
        "        imgElement.style.top = videoRect.top + \"px\";\n",
        "        imgElement.style.left = videoRect.left + \"px\";\n",
        "        imgElement.style.width = videoRect.width + \"px\";\n",
        "        imgElement.style.height = videoRect.height + \"px\";\n",
        "        imgElement.src = imgData;\n",
        "      }\n",
        "      \n",
        "      var preCapture = Date.now();\n",
        "      var result = await new Promise(function(resolve, reject) {\n",
        "        pendingResolve = resolve;\n",
        "      });\n",
        "      shutdown = false;\n",
        "      \n",
        "      return {'create': preShow - preCreate, \n",
        "              'show': preCapture - preShow, \n",
        "              'capture': Date.now() - preCapture,\n",
        "              'img': result};\n",
        "    }\n",
        "    ''')\n",
        "\n",
        "  display(js)\n",
        "  \n",
        "def video_frame(label, bbox):\n",
        "  data = eval_js('stream_frame(\"{}\", \"{}\")'.format(label, bbox))\n",
        "  return data"
      ],
      "execution_count": 10,
      "outputs": []
    },
    {
      "cell_type": "code",
      "metadata": {
        "id": "HHTkpj6J8GnA"
      },
      "source": [
        "\n",
        "from google.colab.patches import cv2_imshow"
      ],
      "execution_count": 11,
      "outputs": []
    },
    {
      "cell_type": "code",
      "metadata": {
        "id": "jxYJaVwTc5B3",
        "colab": {
          "base_uri": "https://localhost:8080/",
          "height": 295
        },
        "outputId": "e3cd07f2-83f4-421b-988a-24bd718d0c2d"
      },
      "source": [
        "# start streaming video from webcam\n",
        "video_stream()\n",
        "# label for video\n",
        "label_html = 'Capturing...'\n",
        "# initialze bounding box to empty\n",
        "bbox = ''\n",
        "count = 0 \n",
        "\n",
        "# Set mediapipe model \n",
        "with mp_holistic.Holistic(min_detection_confidence=0.5, min_tracking_confidence=0.5) as holistic:\n",
        "\n",
        "  while True:\n",
        "    js_reply = video_frame(label_html, bbox)\n",
        "    if not js_reply:\n",
        "        break\n",
        "\n",
        "    # convert JS response to OpenCV Image\n",
        "    img = js_to_image(js_reply[\"img\"])\n",
        "        \n",
        "    # Make detections\n",
        "    image, results = mediapipe_detection(img, holistic) #image and the model are given as inputs\n",
        "    print(results)\n",
        "        \n",
        "    # Draw landmarks\n",
        "    draw_styled_landmarks(image, results)\n",
        "\n",
        "    # Show to screen\n",
        "    #cv2.imshow('OpenCV Feed', image)\n",
        "\n",
        "        # Break gracefully\n",
        "        #if cv2.waitKey(10) & 0xFF == ord('q'):\n",
        "          #  break\n",
        "    "
      ],
      "execution_count": 16,
      "outputs": [
        {
          "output_type": "display_data",
          "data": {
            "application/javascript": [
              "\n",
              "    var video;\n",
              "    var div = null;\n",
              "    var stream;\n",
              "    var captureCanvas;\n",
              "    var imgElement;\n",
              "    var labelElement;\n",
              "    \n",
              "    var pendingResolve = null;\n",
              "    var shutdown = false;\n",
              "    \n",
              "    function removeDom() {\n",
              "       stream.getVideoTracks()[0].stop();\n",
              "       video.remove();\n",
              "       div.remove();\n",
              "       video = null;\n",
              "       div = null;\n",
              "       stream = null;\n",
              "       imgElement = null;\n",
              "       captureCanvas = null;\n",
              "       labelElement = null;\n",
              "    }\n",
              "    \n",
              "    function onAnimationFrame() {\n",
              "      if (!shutdown) {\n",
              "        window.requestAnimationFrame(onAnimationFrame);\n",
              "      }\n",
              "      if (pendingResolve) {\n",
              "        var result = \"\";\n",
              "        if (!shutdown) {\n",
              "          captureCanvas.getContext('2d').drawImage(video, 0, 0, 640, 480);\n",
              "          result = captureCanvas.toDataURL('image/jpeg', 0.8)\n",
              "        }\n",
              "        var lp = pendingResolve;\n",
              "        pendingResolve = null;\n",
              "        lp(result);\n",
              "      }\n",
              "    }\n",
              "    \n",
              "    async function createDom() {\n",
              "      if (div !== null) {\n",
              "        return stream;\n",
              "      }\n",
              "\n",
              "      div = document.createElement('div');\n",
              "      div.style.border = '2px solid black';\n",
              "      div.style.padding = '3px';\n",
              "      div.style.width = '100%';\n",
              "      div.style.maxWidth = '600px';\n",
              "      document.body.appendChild(div);\n",
              "      \n",
              "      const modelOut = document.createElement('div');\n",
              "      modelOut.innerHTML = \"<span>Status:</span>\";\n",
              "      labelElement = document.createElement('span');\n",
              "      labelElement.innerText = 'No data';\n",
              "      labelElement.style.fontWeight = 'bold';\n",
              "      modelOut.appendChild(labelElement);\n",
              "      div.appendChild(modelOut);\n",
              "           \n",
              "      video = document.createElement('video');\n",
              "      video.style.display = 'block';\n",
              "      video.width = div.clientWidth - 6;\n",
              "      video.setAttribute('playsinline', '');\n",
              "      video.onclick = () => { shutdown = true; };\n",
              "      stream = await navigator.mediaDevices.getUserMedia(\n",
              "          {video: { facingMode: \"environment\"}});\n",
              "      div.appendChild(video);\n",
              "\n",
              "      imgElement = document.createElement('img');\n",
              "      imgElement.style.position = 'absolute';\n",
              "      imgElement.style.zIndex = 1;\n",
              "      imgElement.onclick = () => { shutdown = true; };\n",
              "      div.appendChild(imgElement);\n",
              "      \n",
              "      const instruction = document.createElement('div');\n",
              "      instruction.innerHTML = \n",
              "          '<span style=\"color: red; font-weight: bold;\">' +\n",
              "          'When finished, click here or on the video to stop this demo</span>';\n",
              "      div.appendChild(instruction);\n",
              "      instruction.onclick = () => { shutdown = true; };\n",
              "      \n",
              "      video.srcObject = stream;\n",
              "      await video.play();\n",
              "\n",
              "      captureCanvas = document.createElement('canvas');\n",
              "      captureCanvas.width = 640; //video.videoWidth;\n",
              "      captureCanvas.height = 480; //video.videoHeight;\n",
              "      window.requestAnimationFrame(onAnimationFrame);\n",
              "      \n",
              "      return stream;\n",
              "    }\n",
              "    async function stream_frame(label, imgData) {\n",
              "      if (shutdown) {\n",
              "        removeDom();\n",
              "        shutdown = false;\n",
              "        return '';\n",
              "      }\n",
              "\n",
              "      var preCreate = Date.now();\n",
              "      stream = await createDom();\n",
              "      \n",
              "      var preShow = Date.now();\n",
              "      if (label != \"\") {\n",
              "        labelElement.innerHTML = label;\n",
              "      }\n",
              "            \n",
              "      if (imgData != \"\") {\n",
              "        var videoRect = video.getClientRects()[0];\n",
              "        imgElement.style.top = videoRect.top + \"px\";\n",
              "        imgElement.style.left = videoRect.left + \"px\";\n",
              "        imgElement.style.width = videoRect.width + \"px\";\n",
              "        imgElement.style.height = videoRect.height + \"px\";\n",
              "        imgElement.src = imgData;\n",
              "      }\n",
              "      \n",
              "      var preCapture = Date.now();\n",
              "      var result = await new Promise(function(resolve, reject) {\n",
              "        pendingResolve = resolve;\n",
              "      });\n",
              "      shutdown = false;\n",
              "      \n",
              "      return {'create': preShow - preCreate, \n",
              "              'show': preCapture - preShow, \n",
              "              'capture': Date.now() - preCapture,\n",
              "              'img': result};\n",
              "    }\n",
              "    "
            ],
            "text/plain": [
              "<IPython.core.display.Javascript object>"
            ]
          },
          "metadata": {}
        },
        {
          "output_type": "stream",
          "name": "stdout",
          "text": [
            "entered mediapipe_detection\n",
            "<class 'mediapipe.python.solution_base.SolutionOutputs'>\n",
            "entered mediapipe_detection\n",
            "<class 'mediapipe.python.solution_base.SolutionOutputs'>\n",
            "entered mediapipe_detection\n",
            "<class 'mediapipe.python.solution_base.SolutionOutputs'>\n",
            "entered mediapipe_detection\n",
            "<class 'mediapipe.python.solution_base.SolutionOutputs'>\n",
            "entered mediapipe_detection\n",
            "<class 'mediapipe.python.solution_base.SolutionOutputs'>\n",
            "entered mediapipe_detection\n",
            "<class 'mediapipe.python.solution_base.SolutionOutputs'>\n",
            "entered mediapipe_detection\n",
            "<class 'mediapipe.python.solution_base.SolutionOutputs'>\n",
            "entered mediapipe_detection\n",
            "<class 'mediapipe.python.solution_base.SolutionOutputs'>\n"
          ]
        }
      ]
    },
    {
      "cell_type": "code",
      "metadata": {
        "id": "5payVdIhc5B8"
      },
      "source": [
        "draw_landmarks(img, results)"
      ],
      "execution_count": 17,
      "outputs": []
    },
    {
      "cell_type": "code",
      "metadata": {
        "id": "sIwz0l2qc5B9",
        "colab": {
          "base_uri": "https://localhost:8080/",
          "height": 286
        },
        "outputId": "630a317e-618a-40e7-9a87-2cbfba797f9c"
      },
      "source": [
        "plt.imshow(cv2.cvtColor(img, cv2.COLOR_BGR2RGB))"
      ],
      "execution_count": 18,
      "outputs": [
        {
          "output_type": "execute_result",
          "data": {
            "text/plain": [
              "<matplotlib.image.AxesImage at 0x7f453b74dcd0>"
            ]
          },
          "metadata": {},
          "execution_count": 18
        },
        {
          "output_type": "display_data",
          "data": {
            "image/png": "[encoded data removed]",
            "text/plain": [
              "<Figure size 432x288 with 1 Axes>"
            ]
          },
          "metadata": {
            "needs_background": "light"
          }
        }
      ]
    },
    {
      "cell_type": "code",
      "metadata": {
        "id": "QeF0lIlOc5CB",
        "colab": {
          "base_uri": "https://localhost:8080/"
        },
        "outputId": "5410bff2-703d-46dd-abad-065311700603"
      },
      "source": [
        "# Extract Keypoint Values\n",
        "\n",
        "#no of landkarks in one hand\n",
        "len(results.left_hand_landmarks.landmark)"
      ],
      "execution_count": 19,
      "outputs": [
        {
          "output_type": "execute_result",
          "data": {
            "text/plain": [
              "21"
            ]
          },
          "metadata": {},
          "execution_count": 19
        }
      ]
    },
    {
      "cell_type": "code",
      "metadata": {
        "id": "9kBdhYm_c5CC",
        "colab": {
          "base_uri": "https://localhost:8080/"
        },
        "outputId": "70c3d27b-2b42-4ef8-efc0-4c2216434774"
      },
      "source": [
        "#here is the reslut set for left hand\n",
        "results.left_hand_landmarks.landmark"
      ],
      "execution_count": 20,
      "outputs": [
        {
          "output_type": "execute_result",
          "data": {
            "text/plain": [
              "[x: 0.7340667247772217\n",
              "y: 0.6398239731788635\n",
              "z: 3.180116721068771e-07\n",
              ", x: 0.682346761226654\n",
              "y: 0.6174106597900391\n",
              "z: -0.014745072461664677\n",
              ", x: 0.6392732262611389\n",
              "y: 0.5677636861801147\n",
              "z: -0.020205767825245857\n",
              ", x: 0.6115498542785645\n",
              "y: 0.5229580998420715\n",
              "z: -0.024141209200024605\n",
              ", x: 0.5871639847755432\n",
              "y: 0.4944724142551422\n",
              "z: -0.027456151321530342\n",
              ", x: 0.6739689111709595\n",
              "y: 0.4858379065990448\n",
              "z: -0.012145551852881908\n",
              ", x: 0.6519269943237305\n",
              "y: 0.4218407869338989\n",
              "z: -0.021399784833192825\n",
              ", x: 0.641204833984375\n",
              "y: 0.38272401690483093\n",
              "z: -0.028832845389842987\n",
              ", x: 0.6342724561691284\n",
              "y: 0.3510369062423706\n",
              "z: -0.03443848714232445\n",
              ", x: 0.7057722806930542\n",
              "y: 0.4778360426425934\n",
              "z: -0.013297328725457191\n",
              ", x: 0.7010446190834045\n",
              "y: 0.40554195642471313\n",
              "z: -0.020727939903736115\n",
              ", x: 0.6981284022331238\n",
              "y: 0.3604580760002136\n",
              "z: -0.02794000506401062\n",
              ", x: 0.6965499520301819\n",
              "y: 0.32560229301452637\n",
              "z: -0.03323383629322052\n",
              ", x: 0.7348810434341431\n",
              "y: 0.48431888222694397\n",
              "z: -0.016657976433634758\n",
              ", x: 0.7359462380409241\n",
              "y: 0.4206368923187256\n",
              "z: -0.027564801275730133\n",
              ", x: 0.7366372346878052\n",
              "y: 0.3811958134174347\n",
              "z: -0.03523924946784973\n",
              ", x: 0.7371305823326111\n",
              "y: 0.34938010573387146\n",
              "z: -0.04011186212301254\n",
              ", x: 0.7619527578353882\n",
              "y: 0.5004364252090454\n",
              "z: -0.021094925701618195\n",
              ", x: 0.774677038192749\n",
              "y: 0.4541153013706207\n",
              "z: -0.03173689544200897\n",
              ", x: 0.7817842364311218\n",
              "y: 0.42418304085731506\n",
              "z: -0.03597607836127281\n",
              ", x: 0.7875713109970093\n",
              "y: 0.39703094959259033\n",
              "z: -0.03812899813055992\n",
              "]"
            ]
          },
          "metadata": {},
          "execution_count": 20
        }
      ]
    },
    {
      "cell_type": "code",
      "metadata": {
        "id": "Q9FqSZR2c5CD",
        "colab": {
          "base_uri": "https://localhost:8080/"
        },
        "outputId": "c4a26833-0924-4958-d59d-5eb7a9815010"
      },
      "source": [
        "#we can get coordinates values of each point with the array indexes form 0-20\n",
        "results.left_hand_landmarks.landmark[0]"
      ],
      "execution_count": 21,
      "outputs": [
        {
          "output_type": "execute_result",
          "data": {
            "text/plain": [
              "x: 0.7340667247772217\n",
              "y: 0.6398239731788635\n",
              "z: 3.180116721068771e-07"
            ]
          },
          "metadata": {},
          "execution_count": 21
        }
      ]
    },
    {
      "cell_type": "markdown",
      "metadata": {
        "id": "6xkIJWpnK_Zy"
      },
      "source": [
        "taking x,y,z values of each keypoint in a hand and store them in a matrix(21,3). hidden keypoints are represented by zero(assign zero to keypoints which can not seen in the image)"
      ]
    },
    {
      "cell_type": "code",
      "metadata": {
        "id": "f-OektdUc5CE"
      },
      "source": [
        "#take the left 21 keypoint values of x,y,z into an array and 2 places for sin and cos values\n",
        "def extract_left_keypoints(results):\n",
        "    lh = np.array([[res.x, res.y, res.z, 0, 0] for res in results.left_hand_landmarks.landmark]) if results.left_hand_landmarks else np.zeros((21,5))\n",
        "    return lh\n",
        "#take the right 21 keypoint values of x,y,z into an array\n",
        "def extract_right_keypoints(results):\n",
        "    rh = np.array([[res.x, res.y, res.z, 0, 0] for res in results.right_hand_landmarks.landmark])if results.right_hand_landmarks else np.zeros((21,5))\n",
        "    return rh"
      ],
      "execution_count": 22,
      "outputs": []
    },
    {
      "cell_type": "code",
      "metadata": {
        "id": "VWJ8fyylTF7T"
      },
      "source": [
        ""
      ],
      "execution_count": null,
      "outputs": []
    },
    {
      "cell_type": "code",
      "metadata": {
        "id": "R6mf8rflc5CF"
      },
      "source": [
        "result_left_test = extract_left_keypoints(results)\n",
        "result_right_test = extract_right_keypoints(results)"
      ],
      "execution_count": 23,
      "outputs": []
    },
    {
      "cell_type": "code",
      "metadata": {
        "colab": {
          "base_uri": "https://localhost:8080/"
        },
        "id": "T_xEmjMmufUO",
        "outputId": "e3d48303-03da-4604-fc31-ce8680acd243"
      },
      "source": [
        "result_left_test\n",
        "#comming with e values. all are <0"
      ],
      "execution_count": 24,
      "outputs": [
        {
          "output_type": "execute_result",
          "data": {
            "text/plain": [
              "array([[ 7.34066725e-01,  6.39823973e-01,  3.18011672e-07,\n",
              "         0.00000000e+00,  0.00000000e+00],\n",
              "       [ 6.82346761e-01,  6.17410660e-01, -1.47450725e-02,\n",
              "         0.00000000e+00,  0.00000000e+00],\n",
              "       [ 6.39273226e-01,  5.67763686e-01, -2.02057678e-02,\n",
              "         0.00000000e+00,  0.00000000e+00],\n",
              "       [ 6.11549854e-01,  5.22958100e-01, -2.41412092e-02,\n",
              "         0.00000000e+00,  0.00000000e+00],\n",
              "       [ 5.87163985e-01,  4.94472414e-01, -2.74561513e-02,\n",
              "         0.00000000e+00,  0.00000000e+00],\n",
              "       [ 6.73968911e-01,  4.85837907e-01, -1.21455519e-02,\n",
              "         0.00000000e+00,  0.00000000e+00],\n",
              "       [ 6.51926994e-01,  4.21840787e-01, -2.13997848e-02,\n",
              "         0.00000000e+00,  0.00000000e+00],\n",
              "       [ 6.41204834e-01,  3.82724017e-01, -2.88328454e-02,\n",
              "         0.00000000e+00,  0.00000000e+00],\n",
              "       [ 6.34272456e-01,  3.51036906e-01, -3.44384871e-02,\n",
              "         0.00000000e+00,  0.00000000e+00],\n",
              "       [ 7.05772281e-01,  4.77836043e-01, -1.32973287e-02,\n",
              "         0.00000000e+00,  0.00000000e+00],\n",
              "       [ 7.01044619e-01,  4.05541956e-01, -2.07279399e-02,\n",
              "         0.00000000e+00,  0.00000000e+00],\n",
              "       [ 6.98128402e-01,  3.60458076e-01, -2.79400051e-02,\n",
              "         0.00000000e+00,  0.00000000e+00],\n",
              "       [ 6.96549952e-01,  3.25602293e-01, -3.32338363e-02,\n",
              "         0.00000000e+00,  0.00000000e+00],\n",
              "       [ 7.34881043e-01,  4.84318882e-01, -1.66579764e-02,\n",
              "         0.00000000e+00,  0.00000000e+00],\n",
              "       [ 7.35946238e-01,  4.20636892e-01, -2.75648013e-02,\n",
              "         0.00000000e+00,  0.00000000e+00],\n",
              "       [ 7.36637235e-01,  3.81195813e-01, -3.52392495e-02,\n",
              "         0.00000000e+00,  0.00000000e+00],\n",
              "       [ 7.37130582e-01,  3.49380106e-01, -4.01118621e-02,\n",
              "         0.00000000e+00,  0.00000000e+00],\n",
              "       [ 7.61952758e-01,  5.00436425e-01, -2.10949257e-02,\n",
              "         0.00000000e+00,  0.00000000e+00],\n",
              "       [ 7.74677038e-01,  4.54115301e-01, -3.17368954e-02,\n",
              "         0.00000000e+00,  0.00000000e+00],\n",
              "       [ 7.81784236e-01,  4.24183041e-01, -3.59760784e-02,\n",
              "         0.00000000e+00,  0.00000000e+00],\n",
              "       [ 7.87571311e-01,  3.97030950e-01, -3.81289981e-02,\n",
              "         0.00000000e+00,  0.00000000e+00]])"
            ]
          },
          "metadata": {},
          "execution_count": 24
        }
      ]
    },
    {
      "cell_type": "code",
      "metadata": {
        "id": "1YtdIEuQc5CF",
        "colab": {
          "base_uri": "https://localhost:8080/"
        },
        "outputId": "69f44eaf-b8a4-42ad-c201-8447aa691c38"
      },
      "source": [
        "result_right_test"
      ],
      "execution_count": 25,
      "outputs": [
        {
          "output_type": "execute_result",
          "data": {
            "text/plain": [
              "array([[0., 0., 0., 0., 0.],\n",
              "       [0., 0., 0., 0., 0.],\n",
              "       [0., 0., 0., 0., 0.],\n",
              "       [0., 0., 0., 0., 0.],\n",
              "       [0., 0., 0., 0., 0.],\n",
              "       [0., 0., 0., 0., 0.],\n",
              "       [0., 0., 0., 0., 0.],\n",
              "       [0., 0., 0., 0., 0.],\n",
              "       [0., 0., 0., 0., 0.],\n",
              "       [0., 0., 0., 0., 0.],\n",
              "       [0., 0., 0., 0., 0.],\n",
              "       [0., 0., 0., 0., 0.],\n",
              "       [0., 0., 0., 0., 0.],\n",
              "       [0., 0., 0., 0., 0.],\n",
              "       [0., 0., 0., 0., 0.],\n",
              "       [0., 0., 0., 0., 0.],\n",
              "       [0., 0., 0., 0., 0.],\n",
              "       [0., 0., 0., 0., 0.],\n",
              "       [0., 0., 0., 0., 0.],\n",
              "       [0., 0., 0., 0., 0.],\n",
              "       [0., 0., 0., 0., 0.]])"
            ]
          },
          "metadata": {},
          "execution_count": 25
        }
      ]
    },
    {
      "cell_type": "code",
      "metadata": {
        "id": "692lQaqWc5CG"
      },
      "source": [
        "\n",
        "#getting x, y values of the fingeer tips and their hypotenuse(wikarnaya) according to the wrist as origin\n",
        "#all x values are substracting from wrist's x value\n",
        "#all wrist's y value is substracting from all y values\n",
        " \n",
        "\n",
        "#Thumb finger tip\n",
        "ax=result_left_test[0,0]-result_left_test[4,0]\n",
        "ay=result_left_test[0,1]-result_left_test[4,1]\n",
        "app=np.sqrt([np.power(ax,2)+np.power(ay,2)])\n",
        "ap=app[0]\n",
        "\n",
        "bx=result_left_test[0,0]-result_left_test[8,0]\n",
        "by=result_left_test[0,1]-result_left_test[8,1]\n",
        "bpp=np.sqrt([np.power(bx,2)+np.power(by,2)])\n",
        "bp=bpp[0]\n",
        "\n",
        "cx=result_left_test[0,0]-result_left_test[12,0]\n",
        "cy=result_left_test[0,1]-result_left_test[12,1]\n",
        "cpp=np.sqrt([np.power(cx,2)+np.power(cy,2)])\n",
        "cp=cpp[0]\n",
        "\n",
        "dx=result_left_test[0,0]-result_left_test[16,0]\n",
        "dy=result_left_test[0,1]-result_left_test[16,1]\n",
        "dpp=np.sqrt([np.power(dx,2)+np.power(dy,2)])\n",
        "dp=dpp[0]\n",
        "\n",
        "ex=result_left_test[0,0]-result_left_test[20,0]\n",
        "ey=result_left_test[0,1]-result_left_test[20,1]\n",
        "epp=np.sqrt([np.power(ex,2)+np.power(ey,2)])\n",
        "ep=epp[0]\n",
        "\n",
        "left_finger_tips= np.array([[ax,ay,ap],[bx,by,bp],[cx,cy,cp],[dx,dy,dp],[ex,ey,ep]])\n",
        "\n",
        "fx=result_right_test[0,0]-result_right_test[4,0]\n",
        "fy=result_right_test[0,1]-result_right_test[4,1]\n",
        "fpp=np.sqrt([np.power(fx,2)+np.power(fy,2)])\n",
        "fp=fpp[0]\n",
        "\n",
        "gx=result_right_test[0,0]-result_right_test[8,0]\n",
        "gy=result_right_test[0,1]-result_right_test[8,1]\n",
        "gpp=np.sqrt([np.power(gx,2)+np.power(gy,2)])\n",
        "gp=gpp[0]\n",
        "\n",
        "hx=result_right_test[0,0]-result_right_test[12,0]\n",
        "hy=result_right_test[0,1]-result_right_test[12,1]\n",
        "hpp=np.sqrt([np.power(hx,2)+np.power(hy,2)])\n",
        "hp=hpp[0]\n",
        "\n",
        "ix=result_right_test[0,0]-result_right_test[16,0]\n",
        "iy=result_right_test[0,1]-result_right_test[16,1]\n",
        "ipp=np.sqrt([np.power(ix,2)+np.power(iy,2)])\n",
        "ip=ipp[0]\n",
        "\n",
        "jx=result_right_test[0,0]-result_right_test[20,0]\n",
        "jy=result_right_test[0,1]-result_right_test[20,1]\n",
        "jpp=np.sqrt([np.power(jx,2)+np.power(jy,2)])\n",
        "jp=jpp[0]\n",
        "\n",
        "right_finger_tips= np.array([[fx,fy,fp],[gx,gy,gp],[hx,hy,hp],[ix,iy,ip],[jx,jy,jp]])\n"
      ],
      "execution_count": 26,
      "outputs": []
    },
    {
      "cell_type": "code",
      "metadata": {
        "id": "bX_Eruw5inxA",
        "colab": {
          "base_uri": "https://localhost:8080/"
        },
        "outputId": "025b4e3c-9247-4963-bbdc-cb8096c892d4"
      },
      "source": [
        "left_finger_tips"
      ],
      "execution_count": 27,
      "outputs": [
        {
          "output_type": "execute_result",
          "data": {
            "text/plain": [
              "array([[ 0.14690274,  0.14535156,  0.20665791],\n",
              "       [ 0.09979427,  0.28878707,  0.30554356],\n",
              "       [ 0.03751677,  0.31422168,  0.31645343],\n",
              "       [-0.00306386,  0.29044387,  0.29046003],\n",
              "       [-0.05350459,  0.24279302,  0.24861857]])"
            ]
          },
          "metadata": {},
          "execution_count": 27
        }
      ]
    },
    {
      "cell_type": "code",
      "metadata": {
        "id": "PScjDLDWglDP",
        "colab": {
          "base_uri": "https://localhost:8080/"
        },
        "outputId": "eb84aff3-3a3b-454c-d3bb-485f3b8a2562"
      },
      "source": [
        "right_finger_tips"
      ],
      "execution_count": 28,
      "outputs": [
        {
          "output_type": "execute_result",
          "data": {
            "text/plain": [
              "array([[0., 0., 0.],\n",
              "       [0., 0., 0.],\n",
              "       [0., 0., 0.],\n",
              "       [0., 0., 0.],\n",
              "       [0., 0., 0.]])"
            ]
          },
          "metadata": {},
          "execution_count": 28
        }
      ]
    },
    {
      "cell_type": "code",
      "metadata": {
        "id": "FvPbIF4XcyZh"
      },
      "source": [
        "#get sin cos values for each finger tips\n",
        "#perpendicular(opposite side) - y distance\n",
        "#adjacent side - x distance\n",
        "arr_sin_left=np.array([0.0,1.0,2.0,3.0,4.0])\n",
        "arr_cos_left=np.array([0.0,1.0,2.0,3.0,4.0])\n",
        "arr_sin_right=np.array([0.0,1.0,2.0,3.0,4.0])\n",
        "arr_cos_right=np.array([0.0,1.0,2.0,3.0,4.0])\n",
        "\n",
        "for i in range(0,5):\n",
        "  arr_sin_left[i]=left_finger_tips[i,1]/left_finger_tips[i,2]\n",
        "  arr_cos_left[i]=left_finger_tips[i,0]/left_finger_tips[i,2]\n",
        "  arr_sin_right[i]=right_finger_tips[i,1]/right_finger_tips[i,2] if right_finger_tips[i,1] or right_finger_tips[i,2] else 0\n",
        "  arr_cos_right[i]=right_finger_tips[i,0]/right_finger_tips[i,2] if right_finger_tips[i,0] or right_finger_tips[i,2] else 0\n",
        "\n",
        " "
      ],
      "execution_count": 29,
      "outputs": []
    },
    {
      "cell_type": "code",
      "metadata": {
        "colab": {
          "base_uri": "https://localhost:8080/"
        },
        "id": "Psgjy2D1q3lK",
        "outputId": "fc68e4f0-d50c-4e4f-cd9a-41c2b007fd74"
      },
      "source": [
        "arr_sin_left"
      ],
      "execution_count": 30,
      "outputs": [
        {
          "output_type": "execute_result",
          "data": {
            "text/plain": [
              "array([0.7033438 , 0.94515842, 0.99294762, 0.99994437, 0.97656834])"
            ]
          },
          "metadata": {},
          "execution_count": 30
        }
      ]
    },
    {
      "cell_type": "code",
      "metadata": {
        "colab": {
          "base_uri": "https://localhost:8080/"
        },
        "id": "C3xLHZmk520T",
        "outputId": "9a264eb3-7d02-4f74-e31f-f639a227d2f7"
      },
      "source": [
        "arr_sin_right"
      ],
      "execution_count": 31,
      "outputs": [
        {
          "output_type": "execute_result",
          "data": {
            "text/plain": [
              "array([0., 0., 0., 0., 0.])"
            ]
          },
          "metadata": {},
          "execution_count": 31
        }
      ]
    },
    {
      "cell_type": "code",
      "metadata": {
        "id": "uUXW6rezkTd6"
      },
      "source": [
        "result_left_test[4,3]=arr_sin_left[0]\n",
        "result_left_test[8,3]=arr_sin_left[1]\n",
        "result_left_test[12,3]=arr_sin_left[2]\n",
        "result_left_test[16,3]=arr_sin_left[3]\n",
        "result_left_test[20,3]=arr_sin_left[4]\n",
        "\n",
        "result_right_test[4,3]=arr_sin_right[0]\n",
        "result_right_test[8,3]=arr_sin_right[1]\n",
        "result_right_test[12,3]=arr_sin_right[2]\n",
        "result_right_test[16,3]=arr_sin_right[3]\n",
        "result_right_test[20,3]=arr_sin_right[4]\n",
        "  \n",
        "result_left_test[4,4]=arr_cos_left[0]\n",
        "result_left_test[8,4]=arr_cos_left[1]\n",
        "result_left_test[12,4]=arr_cos_left[2]\n",
        "result_left_test[16,4]=arr_cos_left[3]\n",
        "result_left_test[20,4]=arr_cos_left[4]\n",
        "\n",
        "result_right_test[4,4]=arr_cos_right[0]\n",
        "result_right_test[8,4]=arr_cos_right[1]\n",
        "result_right_test[12,4]=arr_cos_right[2]\n",
        "result_right_test[16,4]=arr_cos_right[3]\n",
        "result_right_test[20,4]=arr_cos_right[4]\n",
        "  "
      ],
      "execution_count": 32,
      "outputs": []
    },
    {
      "cell_type": "code",
      "metadata": {
        "colab": {
          "base_uri": "https://localhost:8080/"
        },
        "id": "xEXxA7ohpTt7",
        "outputId": "680e5d89-540c-46fa-e7a8-7dc179cff1da"
      },
      "source": [
        "result_left_test"
      ],
      "execution_count": 33,
      "outputs": [
        {
          "output_type": "execute_result",
          "data": {
            "text/plain": [
              "array([[ 7.34066725e-01,  6.39823973e-01,  3.18011672e-07,\n",
              "         0.00000000e+00,  0.00000000e+00],\n",
              "       [ 6.82346761e-01,  6.17410660e-01, -1.47450725e-02,\n",
              "         0.00000000e+00,  0.00000000e+00],\n",
              "       [ 6.39273226e-01,  5.67763686e-01, -2.02057678e-02,\n",
              "         0.00000000e+00,  0.00000000e+00],\n",
              "       [ 6.11549854e-01,  5.22958100e-01, -2.41412092e-02,\n",
              "         0.00000000e+00,  0.00000000e+00],\n",
              "       [ 5.87163985e-01,  4.94472414e-01, -2.74561513e-02,\n",
              "         7.03343805e-01,  7.10849838e-01],\n",
              "       [ 6.73968911e-01,  4.85837907e-01, -1.21455519e-02,\n",
              "         0.00000000e+00,  0.00000000e+00],\n",
              "       [ 6.51926994e-01,  4.21840787e-01, -2.13997848e-02,\n",
              "         0.00000000e+00,  0.00000000e+00],\n",
              "       [ 6.41204834e-01,  3.82724017e-01, -2.88328454e-02,\n",
              "         0.00000000e+00,  0.00000000e+00],\n",
              "       [ 6.34272456e-01,  3.51036906e-01, -3.44384871e-02,\n",
              "         9.45158420e-01,  3.26612248e-01],\n",
              "       [ 7.05772281e-01,  4.77836043e-01, -1.32973287e-02,\n",
              "         0.00000000e+00,  0.00000000e+00],\n",
              "       [ 7.01044619e-01,  4.05541956e-01, -2.07279399e-02,\n",
              "         0.00000000e+00,  0.00000000e+00],\n",
              "       [ 6.98128402e-01,  3.60458076e-01, -2.79400051e-02,\n",
              "         0.00000000e+00,  0.00000000e+00],\n",
              "       [ 6.96549952e-01,  3.25602293e-01, -3.32338363e-02,\n",
              "         9.92947624e-01,  1.18553851e-01],\n",
              "       [ 7.34881043e-01,  4.84318882e-01, -1.66579764e-02,\n",
              "         0.00000000e+00,  0.00000000e+00],\n",
              "       [ 7.35946238e-01,  4.20636892e-01, -2.75648013e-02,\n",
              "         0.00000000e+00,  0.00000000e+00],\n",
              "       [ 7.36637235e-01,  3.81195813e-01, -3.52392495e-02,\n",
              "         0.00000000e+00,  0.00000000e+00],\n",
              "       [ 7.37130582e-01,  3.49380106e-01, -4.01118621e-02,\n",
              "         9.99944365e-01, -1.05482933e-02],\n",
              "       [ 7.61952758e-01,  5.00436425e-01, -2.10949257e-02,\n",
              "         0.00000000e+00,  0.00000000e+00],\n",
              "       [ 7.74677038e-01,  4.54115301e-01, -3.17368954e-02,\n",
              "         0.00000000e+00,  0.00000000e+00],\n",
              "       [ 7.81784236e-01,  4.24183041e-01, -3.59760784e-02,\n",
              "         0.00000000e+00,  0.00000000e+00],\n",
              "       [ 7.87571311e-01,  3.97030950e-01, -3.81289981e-02,\n",
              "         9.76568340e-01, -2.15207522e-01]])"
            ]
          },
          "metadata": {},
          "execution_count": 33
        }
      ]
    },
    {
      "cell_type": "code",
      "metadata": {
        "id": "DVgnpBz2Hhzc"
      },
      "source": [
        "results = np.concatenate([result_right_test, result_left_test])\n"
      ],
      "execution_count": 34,
      "outputs": []
    },
    {
      "cell_type": "code",
      "metadata": {
        "id": "KOQuXgyvtby7"
      },
      "source": [
        "final = results.flatten()"
      ],
      "execution_count": 35,
      "outputs": []
    },
    {
      "cell_type": "code",
      "metadata": {
        "colab": {
          "base_uri": "https://localhost:8080/"
        },
        "id": "Kwkd1YJm4UnC",
        "outputId": "3aba3d70-310a-4ad3-d056-537fff85c51a"
      },
      "source": [
        "final.shape"
      ],
      "execution_count": 36,
      "outputs": [
        {
          "output_type": "execute_result",
          "data": {
            "text/plain": [
              "(210,)"
            ]
          },
          "metadata": {},
          "execution_count": 36
        }
      ]
    },
    {
      "cell_type": "code",
      "metadata": {
        "id": "Veav3CSXDFQW"
      },
      "source": [
        ""
      ],
      "execution_count": null,
      "outputs": []
    },
    {
      "cell_type": "code",
      "metadata": {
        "id": "iHR6AieHDFR6"
      },
      "source": [
        "#proposed model\n",
        "\n",
        "model = Sequential()\n",
        "model.add(LSTM(64, return_sequences=True, activation='relu', input_shape=(10,210)))\n",
        "model.add(LSTM(128, return_sequences=True, activation='relu'))\n",
        "model.add(LSTM(64, return_sequences=False, activation='relu'))\n",
        "model.add(Dense(64, activation='relu'))\n",
        "model.add(Dense(32, activation='relu'))\n",
        "model.add(Dense(actions.shape[0], activation='softmax'))"
      ],
      "execution_count": null,
      "outputs": []
    },
    {
      "cell_type": "code",
      "metadata": {
        "id": "pKxyPljbDFVu"
      },
      "source": [
        ""
      ],
      "execution_count": null,
      "outputs": []
    },
    {
      "cell_type": "code",
      "metadata": {
        "id": "9eTbxEF_DFXR"
      },
      "source": [
        ""
      ],
      "execution_count": null,
      "outputs": []
    },
    {
      "cell_type": "code",
      "metadata": {
        "id": "6m_TlQRNDFbD"
      },
      "source": [
        ""
      ],
      "execution_count": null,
      "outputs": []
    },
    {
      "cell_type": "code",
      "metadata": {
        "id": "Bfpsa2hEDFcq"
      },
      "source": [
        ""
      ],
      "execution_count": null,
      "outputs": []
    },
    {
      "cell_type": "code",
      "metadata": {
        "id": "12lsqyOkDFgz"
      },
      "source": [
        ""
      ],
      "execution_count": null,
      "outputs": []
    },
    {
      "cell_type": "code",
      "metadata": {
        "id": "Nfuou9nVDFiK"
      },
      "source": [
        ""
      ],
      "execution_count": null,
      "outputs": []
    },
    {
      "cell_type": "code",
      "metadata": {
        "id": "HC5Jlj3xDFmH"
      },
      "source": [
        ""
      ],
      "execution_count": null,
      "outputs": []
    },
    {
      "cell_type": "code",
      "metadata": {
        "id": "MyDRvHdsDFpH"
      },
      "source": [
        ""
      ],
      "execution_count": null,
      "outputs": []
    },
    {
      "cell_type": "code",
      "metadata": {
        "id": "RFH_Sgc_DF-L"
      },
      "source": [
        ""
      ],
      "execution_count": null,
      "outputs": []
    },
    {
      "cell_type": "code",
      "metadata": {
        "id": "f-yjLCf1c5CH"
      },
      "source": [
        "# storing data\n",
        "\n",
        "# Path for data, numpy arrays\n",
        "DATA_PATH = '/content/drive/MyDrive/ColabNotebooks/keypointData/'\n",
        "\n",
        "# Actions to detect\n",
        "actions = np.array(['mama', 'api', 'oba'])\n",
        "\n",
        "# no of videos\n",
        "no_sequences = 7\n",
        "\n",
        "# Videos are going to be 30 frames in length\n",
        "sequence_length = 60\n",
        "\n",
        "# Folder start\n",
        "start_folder = 0"
      ],
      "execution_count": null,
      "outputs": []
    },
    {
      "cell_type": "code",
      "metadata": {
        "id": "lCs8iLNMc5CI",
        "colab": {
          "base_uri": "https://localhost:8080/",
          "height": 130
        },
        "outputId": "b3411cf1-1c6d-44f6-9bb9-a01796ff9459"
      },
      "source": [
        "\n",
        "with mp_holistic.Holistic(min_detection_confidence=0.5, min_tracking_confidence=0.5) as holistic:\n",
        "    \n",
        "    # Loop through actions\n",
        "    for action in actions:\n",
        "        # Loop through sequences  videos\n",
        "        for sequence in range(start_folder, start_folder+no_sequences):\n",
        "            # Loop through video length, sequence length\n",
        "            for frame_num in range(sequence_length):\n",
        "              \n",
        "                image = cv2.imread('/content/drive/MyDrive/ColabNotebooks/keypointData/' + actions(0) + sequence')\n",
        "                # Make detections\n",
        "                results = mediapipe_detection(image, holistic)\n",
        "                \n",
        "                # NEW Export keypoints\n",
        "                keypoints = extract_keypoints(results)\n",
        "                npy_path = os.path.join(DATA_PATH, action, str(sequence), str(frame_num))\n",
        "                np.save(npy_path, keypoints)\n",
        "\n",
        "              "
      ],
      "execution_count": null,
      "outputs": [
        {
          "output_type": "error",
          "ename": "SyntaxError",
          "evalue": "ignored",
          "traceback": [
            "\u001b[0;36m  File \u001b[0;32m\"<ipython-input-187-6c2d60d258b0>\"\u001b[0;36m, line \u001b[0;32m11\u001b[0m\n\u001b[0;31m    image = cv2.imread('/content/drive/MyDrive/ColabNotebooks/keypointData/' + actions(0) + sequence')\u001b[0m\n\u001b[0m                                                                                                      ^\u001b[0m\n\u001b[0;31mSyntaxError\u001b[0m\u001b[0;31m:\u001b[0m EOL while scanning string literal\n"
          ]
        }
      ]
    },
    {
      "cell_type": "code",
      "metadata": {
        "colab": {
          "base_uri": "https://localhost:8080/"
        },
        "id": "_3oJbfHO8RmW",
        "outputId": "52493fcd-87d3-42bf-b9d5-9696059697a5"
      },
      "source": [
        "from google.colab import drive\n",
        "drive.mount('/content/drive')"
      ],
      "execution_count": null,
      "outputs": [
        {
          "output_type": "stream",
          "name": "stdout",
          "text": [
            "Mounted at /content/drive\n"
          ]
        }
      ]
    },
    {
      "cell_type": "code",
      "metadata": {
        "id": "pyiZluFCc5CJ"
      },
      "source": [
        "# creating lables\n",
        "\n",
        "from sklearn.model_selection import train_test_split\n",
        "from tensorflow.keras.utils import to_categorical"
      ],
      "execution_count": null,
      "outputs": []
    },
    {
      "cell_type": "code",
      "metadata": {
        "id": "8peANM0Xc5CJ"
      },
      "source": [
        "label_map = {label:num for num, label in enumerate(actions)}"
      ],
      "execution_count": null,
      "outputs": []
    },
    {
      "cell_type": "code",
      "metadata": {
        "id": "aXYVxhfVCGlt"
      },
      "source": [
        ""
      ],
      "execution_count": null,
      "outputs": []
    },
    {
      "cell_type": "code",
      "metadata": {
        "id": "0_jWWPCLc5CK",
        "outputId": "7d80a9d8-6d97-4ac7-a0fb-955a9727c862"
      },
      "source": [
        "label_map"
      ],
      "execution_count": null,
      "outputs": [
        {
          "data": {
            "text/plain": [
              "{'hello': 0, 'thanks': 1, 'iloveyou': 2}"
            ]
          },
          "execution_count": 10,
          "metadata": {},
          "output_type": "execute_result"
        }
      ]
    },
    {
      "cell_type": "code",
      "metadata": {
        "id": "y2J1tN3Dc5CK"
      },
      "source": [
        "sequences, labels = [], []\n",
        "for action in actions:\n",
        "    for sequence in np.array(os.listdir(os.path.join(DATA_PATH, action))).astype(int):\n",
        "        window = []\n",
        "        for frame_num in range(sequence_length):\n",
        "            res = np.load(os.path.join(DATA_PATH, action, str(sequence), \"{}.npy\".format(frame_num)))\n",
        "            window.append(res)\n",
        "        sequences.append(window)\n",
        "        labels.append(label_map[action])"
      ],
      "execution_count": null,
      "outputs": []
    },
    {
      "cell_type": "code",
      "metadata": {
        "id": "8hI9HpYFc5CN"
      },
      "source": [
        "#Building LSTM Neural Network\n",
        "\n",
        "from tensorflow.keras.models import Sequential\n",
        "from tensorflow.keras.layers import LSTM, Dense\n",
        "from tensorflow.keras.callbacks import TensorBoard"
      ],
      "execution_count": null,
      "outputs": []
    },
    {
      "cell_type": "code",
      "metadata": {
        "id": "dPDRNIiac5CO"
      },
      "source": [
        "log_dir = os.path.join('Logs')\n",
        "tb_callback = TensorBoard(log_dir=log_dir)"
      ],
      "execution_count": null,
      "outputs": []
    },
    {
      "cell_type": "code",
      "metadata": {
        "id": "L7NwEcdOc5CO"
      },
      "source": [
        "model = Sequential()\n",
        "model.add(LSTM(64, return_sequences=True, activation='relu', input_shape=(7,210)))\n",
        "model.add(LSTM(128, return_sequences=True, activation='relu'))\n",
        "model.add(LSTM(64, return_sequences=False, activation='relu'))\n",
        "model.add(Dense(64, activation='relu'))\n",
        "model.add(Dense(32, activation='relu'))\n",
        "model.add(Dense(actions.shape[0], activation='softmax'))"
      ],
      "execution_count": null,
      "outputs": []
    }
  ]
}